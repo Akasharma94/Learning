{
  "metadata": {
    "kernelspec": {
      "name": "xpython",
      "display_name": "Python 3.13 (XPython)",
      "language": "python"
    },
    "language_info": {
      "file_extension": ".py",
      "mimetype": "text/x-python",
      "name": "python",
      "version": "3.13.1"
    }
  },
  "nbformat_minor": 5,
  "nbformat": 4,
  "cells": [
    {
      "id": "0029b410-ca85-4021-8be4-5f63a1abdfad",
      "cell_type": "markdown",
      "source": "Tools for data science",
      "metadata": {}
    },
    {
      "id": "2b6450d2-5531-4569-a373-393c7dcc7ba9",
      "cell_type": "markdown",
      "source": "Introduction",
      "metadata": {}
    },
    {
      "id": "2149e140-71ff-4c38-86c1-06aa2857b5ec",
      "cell_type": "markdown",
      "source": "**Popular Data Science Languages:**\n- Python\n- R\n- SQL\n- Julia\n- Scala\n- Java (for big data frameworks)\n- JavaScript (for data visualization)",
      "metadata": {}
    },
    {
      "id": "4d3daedc-6aa9-4755-834d-0eba8fc60fc6",
      "cell_type": "markdown",
      "source": "**Essential Data Science Libraries:**\n- Pandas (Python)\n- NumPy (Python)\n- Scikit-learn (Python)\n- TensorFlow/PyTorch (Python)\n- Matplotlib/Seaborn (Python)\n- ggplot2 (R)\n- dplyr (R)\n- Spark (Scala/Java/Python)",
      "metadata": {}
    },
    {
      "id": "b85daa09-3a12-4f00-bdfd-1adad7bed669",
      "cell_type": "markdown",
      "source": "| Tool          | Purpose                     | Open Source |\n|---------------|-----------------------------|-------------|\n| Jupyter       | Interactive coding          | Yes         |\n| VS Code       | Code editor                 | Yes         |\n| Tableau       | Data visualization          | No          |\n| Hadoop        | Big data processing         | Yes         |\n| Apache Spark  | Distributed computing       | Yes         |\n| KNIME         | Data analytics platform     | Yes         |",
      "metadata": {}
    },
    {
      "id": "634faa98-cc23-4364-9719-9ba0c890787a",
      "cell_type": "markdown",
      "source": "**Arithmetic Expression Examples:**\n- Addition: '3 + 5 = 8'\n- Multiplication: '4 * 6 = 24'\n- Exponentiation: '2 ** 3 = 8'\n- Modulo: '10 % 3 = 1'",
      "metadata": {}
    },
    {
      "id": "c546a98d-4d54-4fa1-9fec-cb4fd291e0e0",
      "cell_type": "code",
      "source": "# Code to multiply and add numbers\nx = 5\ny = 7\nproduct = x * y\nsum = x + y\n\nprint(f\"Product: {product}, Sum: {sum}\")",
      "metadata": {
        "trusted": true
      },
      "outputs": [
        {
          "name": "stdout",
          "output_type": "stream",
          "text": "Product: 35, Sum: 12\n"
        }
      ],
      "execution_count": 1
    },
    {
      "id": "39012925-cf97-4ebc-a3ec-2a9d701e7562",
      "cell_type": "code",
      "source": "# Convert minutes to hours\nminutes = 150\nhours = minutes / 60\n\nprint(f\"{minutes} minutes = {hours:.2f} hours\")",
      "metadata": {
        "trusted": true
      },
      "outputs": [
        {
          "name": "stdout",
          "output_type": "stream",
          "text": "150 minutes = 2.50 hours\n"
        }
      ],
      "execution_count": 2
    },
    {
      "id": "75b170de-c97c-4b48-b985-ad770b2cd4b2",
      "cell_type": "markdown",
      "source": "**Learning Objectives:**\n1. Identify key data science languages\n2. Understand common data science libraries\n3. Explore essential data science tools\n4. Practice basic arithmetic operations in code\n5. Learn unit conversions through programming",
      "metadata": {}
    },
    {
      "id": "8d0dcd17-5281-4463-944e-7032f3b4a454",
      "cell_type": "markdown",
      "source": "**Author:** Akash",
      "metadata": {}
    },
    {
      "id": "d6094917-6b07-4965-be44-9f115596285b",
      "cell_type": "code",
      "source": "",
      "metadata": {
        "trusted": true
      },
      "outputs": [],
      "execution_count": null
    }
  ]
}